{
  "nbformat": 4,
  "nbformat_minor": 0,
  "metadata": {
    "colab": {
      "name": "NLP100.ipynb",
      "provenance": [],
      "collapsed_sections": [],
      "authorship_tag": "ABX9TyMFluLRE+eEd2xTxq2LT4QY",
      "include_colab_link": true
    },
    "kernelspec": {
      "name": "python3",
      "display_name": "Python 3"
    },
    "language_info": {
      "name": "python"
    }
  },
  "cells": [
    {
      "cell_type": "markdown",
      "metadata": {
        "id": "view-in-github",
        "colab_type": "text"
      },
      "source": [
        "<a href=\"https://colab.research.google.com/github/davidson00000/NLP100/blob/main/NLP100.ipynb\" target=\"_parent\"><img src=\"https://colab.research.google.com/assets/colab-badge.svg\" alt=\"Open In Colab\"/></a>"
      ]
    },
    {
      "cell_type": "markdown",
      "source": [
        "#　[言語処理100本ノック](https://nlp100.github.io/ja/ch01.html#00-%E6%96%87%E5%AD%97%E5%88%97%E3%81%AE%E9%80%86%E9%A0%86)\n"
      ],
      "metadata": {
        "id": "QRANrqlgj3Gi"
      }
    },
    {
      "cell_type": "markdown",
      "source": [
        "## 第1章: 準備運動\n",
        "### 00. 文字列の逆順"
      ],
      "metadata": {
        "id": "Iq17ULZfld0r"
      }
    },
    {
      "cell_type": "code",
      "execution_count": null,
      "metadata": {
        "id": "gIY9-1Iwia_O"
      },
      "outputs": [],
      "source": [
        "a = \"stressed\""
      ]
    },
    {
      "cell_type": "code",
      "source": [
        "b = list(a)\n",
        "b.reverse()\n",
        "c = \"\".join(b)\n",
        "\n",
        "print (\"a = \", a)\n",
        "print (\"b = \", b)\n",
        "print (\"c = \", c)"
      ],
      "metadata": {
        "colab": {
          "base_uri": "https://localhost:8080/"
        },
        "id": "8G2RQqdxin9i",
        "outputId": "94023b84-2c18-4cbc-fd8d-bdd25cd5ba80"
      },
      "execution_count": 13,
      "outputs": [
        {
          "output_type": "stream",
          "name": "stdout",
          "text": [
            "a =  stressed\n",
            "b =  ['d', 'e', 's', 's', 'e', 'r', 't', 's']\n",
            "c =  desserts\n"
          ]
        }
      ]
    }
  ]
}